{
 "cells": [
  {
   "cell_type": "code",
   "execution_count": 1,
   "id": "4b8f38ad",
   "metadata": {},
   "outputs": [],
   "source": [
    "wiki='https://en.wikipedia.org/wiki/List_of_state_and_union_territory_capitals_in_India'\n",
    "url = \"http://funkacer.pythonanywhere.com\""
   ]
  },
  {
   "cell_type": "code",
   "execution_count": 2,
   "id": "1062b9a2",
   "metadata": {},
   "outputs": [],
   "source": [
    "from bs4 import BeautifulSoup"
   ]
  },
  {
   "cell_type": "code",
   "execution_count": 3,
   "id": "96ba6325",
   "metadata": {},
   "outputs": [],
   "source": [
    "import requests"
   ]
  },
  {
   "cell_type": "code",
   "execution_count": 4,
   "id": "fe681966",
   "metadata": {},
   "outputs": [],
   "source": [
    "response = requests.get(url)"
   ]
  },
  {
   "cell_type": "code",
   "execution_count": 5,
   "id": "25d48b1e",
   "metadata": {},
   "outputs": [
    {
     "data": {
      "text/plain": [
       "200"
      ]
     },
     "execution_count": 5,
     "metadata": {},
     "output_type": "execute_result"
    }
   ],
   "source": [
    "response.status_code"
   ]
  },
  {
   "cell_type": "code",
   "execution_count": 6,
   "id": "d57377ca",
   "metadata": {},
   "outputs": [
    {
     "data": {
      "text/plain": [
       "{'Date': 'Sun, 13 Nov 2022 15:54:55 GMT', 'Content-Type': 'text/html', 'Transfer-Encoding': 'chunked', 'Connection': 'keep-alive', 'Vary': 'Accept-Encoding', 'Last-Modified': 'Sun, 13 Nov 2022 06:16:02 GMT', 'X-Clacks-Overhead': 'GNU Terry Pratchett', 'Content-Encoding': 'gzip', 'Server': 'PythonAnywhere'}"
      ]
     },
     "execution_count": 6,
     "metadata": {},
     "output_type": "execute_result"
    }
   ],
   "source": [
    "response.headers"
   ]
  },
  {
   "cell_type": "code",
   "execution_count": 7,
   "id": "da7e7428",
   "metadata": {},
   "outputs": [
    {
     "data": {
      "text/plain": [
       "'text/html'"
      ]
     },
     "execution_count": 7,
     "metadata": {},
     "output_type": "execute_result"
    }
   ],
   "source": [
    "response.headers['content-type']"
   ]
  },
  {
   "cell_type": "code",
   "execution_count": 8,
   "id": "245b1f5e",
   "metadata": {},
   "outputs": [
    {
     "data": {
      "text/plain": [
       "'ISO-8859-1'"
      ]
     },
     "execution_count": 8,
     "metadata": {},
     "output_type": "execute_result"
    }
   ],
   "source": [
    "response.encoding"
   ]
  },
  {
   "cell_type": "code",
   "execution_count": 9,
   "id": "824bb331",
   "metadata": {},
   "outputs": [
    {
     "data": {
      "text/plain": [
       "'<!DOCTYPE html>\\n<html lang = \"en\">\\n\\t<head>\\n\\t    <meta charset=\"UTF-8\">\\n\\t\\t<title>Hello!</title>\\n    \\t<style type=\"text/css\">\\n        \\t/* CSS styles here...\\n        \\th1 {\\n    \\t\\t    color: red; text-align: right;\\n    \\t\\t} */\\n            @media (min-width: 600px) {\\n                body {\\n                    background-color: red;\\n                }\\n            }\\n            @media (max-width: 599px) {\\n                body {\\n                    background-color: blue;\\n                }\\n            }\\n            button {\\n                width: 200px;\\n                height: 50px;\\n                font-size: 24px;\\n                background-color: green;\\n            }\\n            button:hover {\\n                background-color: orange;\\n            }\\n            #container {\\n                display: flex;\\n                flex-wrap: wrap;\\n            \\tbackground-color: lightblue;\\n            \\twidth: auto;\\n            \\theight: auto;\\n            \\tpadding: auto;\\n            \\tmargin: auto;\\n            }\\n            #container > div {\\n                border: 0px;\\n            \\tfont-size: 20px;\\n            \\tbackground-color: springgreen;\\n            \\twidth: 200px;\\n            \\theight: auto;\\n            \\tpadding: 20px;\\n            \\tmargin: 20px;\\n            }\\n            #grid {\\n                display: grid;\\n            \\tbackground-color: lightgreen;\\n                border: 0px;\\n            \\twidth: auto;\\n            \\theight: auto;\\n            \\tmargin: 50px;\\n                padding: 20px;\\n                grid-column-gap: 20px;\\n                grid-row-gap: 10px;\\n                grid-template-columns: 200px 200px auto 200px;\\n            }\\n            .grid-item {\\n            \\tfont-size: 20px;\\n            \\tbackground-color: white;\\n            \\tpadding: 20px;\\n                text-align: center;\\n                width:auto;\\n            }\\n    \\t</style>\\n    \\t<link rel = \"stylesheet\" href = \"styles.css\">\\n        <meta name = \"viewport\" content = \"width=device-width, initial-scale=1.0\">\\n\\t</head>\\n\\t<body>\\n        <button>Click me</button>\\n        <div id = \"container\">\\n            <div>1. This is some sample text inside a div to demo Flexbox</div>\\n            <div>2. This is some sample text inside a div to demo Flexbox</div>\\n            <div>3. This is some sample text inside a div to demo Flexbox</div>\\n            <div>4. This is some sample text inside a div to demo Flexbox</div>\\n            <div>5. This is some sample text inside a div to demo Flexbox</div>\\n            <div>6. This is some sample text inside a div to demo Flexbox</div>\\n            <div>7. This is some sample text inside a div to demo Flexbox</div>\\n            <div>8. This is some sample text inside a div to demo Flexbox</div>\\n            <div>9. This is some sample text inside a div to demo Flexbox</div>\\n            <div>10. This is some sample text inside a div to demo Flexbox</div>\\n            <div>11. This is some sample text inside a div to demo Flexbox</div>\\n            <div>12. This is some sample text inside a div to demo Flexbox</div>\\n        </div>\\n        <div id = \"grid\">\\n            <div class = \"grid-item\">1.</div>\\n            <div class = \"grid-item\">2.</div>\\n            <div class = \"grid-item\">3.</div>\\n            <div class = \"grid-item\">4.</div>\\n            <div class = \"grid-item\">5.</div>\\n            <div class = \"grid-item\">6.</div>\\n            <div class = \"grid-item\">7.</div>\\n            <div class = \"grid-item\">8.</div>\\n            <div class = \"grid-item\">9.</div>\\n            <div class = \"grid-item\">10.</div>\\n            <div class = \"grid-item\">11.</div>\\n            <div class = \"grid-item\">12.</div>\\n        </div>\\n\\t\\t<div>\\n    \\t\\t<h1 id = \"foo\">Hello, world!</h1>\\n    \\t\\t<h1 style = \"color: red; text-align: right\">Second style</h1>\\n\\t\\t</div>\\n\\t\\t<div>\\n\\t\\t<h2 class = \"baz\">An Ordered List:</h2>\\n\\t\\t<ol>\\n\\t\\t\\t<li>First Item</li>\\n\\t\\t\\t<li>Second Item</li>\\n\\t\\t\\t<ul>\\n\\t\\t\\t\\t<li>Sublist item one</li>\\n\\t\\t\\t\\t<li>Sublist item two</li>\\n\\t\\t\\t\\t<ul>\\n\\t\\t\\t\\t\\t<li>Subsublist item one</li>\\n\\t\\t\\t\\t</ul>\\n\\t\\t\\t</ul>\\n\\t\\t\\t<li>Third Item</li>\\n\\t\\t</ol>\\n\\t\\t</div>\\n\\t\\t<div>\\n\\t\\t<h2 class = \"baz\">An Unordered List:</h2>\\n\\t\\t<ul>\\n\\t\\t\\t<li>One Item</li>\\n\\t\\t\\t<li>Another Item</li>\\n\\t\\t\\t<li>Yet Another Item</li>\\n\\t\\t</ul>\\n\\t\\t</div>\\n\\t\\t<div>\\n\\t\\t<h2>URL:</h2>\\n        <a href = \"bootstrap.html\">Click here for Bootstrap</a>\\n\\t\\t<br>\\n\\t\\t<a href = \"table.html\">Or here for Table</a>\\n\\t\\t<br>\\n\\t\\t<a href = \"form.html\">Or here for Form</a>\\n        <br>\\n        <a href = \"https://google.com\">Click here for Google</a>\\n\\t\\t</div>\\n\\t\\t<div>\\n\\t\\t<h2>Image:</h2>\\n\\t\\t<img src = \"flower.jpeg\" alt = \"Flower\" width = \"300\">\\n\\t\\t</div>\\n\\t</body>\\n</html>\\n'"
      ]
     },
     "execution_count": 9,
     "metadata": {},
     "output_type": "execute_result"
    }
   ],
   "source": [
    "response.text"
   ]
  },
  {
   "cell_type": "code",
   "execution_count": 10,
   "id": "f4a2ee80",
   "metadata": {},
   "outputs": [
    {
     "ename": "JSONDecodeError",
     "evalue": "Expecting value: line 1 column 1 (char 0)",
     "output_type": "error",
     "traceback": [
      "\u001b[1;31m---------------------------------------------------------------------------\u001b[0m",
      "\u001b[1;31mJSONDecodeError\u001b[0m                           Traceback (most recent call last)",
      "File \u001b[1;32mC:\\_Pyth3\\lib\\site-packages\\requests\\models.py:971\u001b[0m, in \u001b[0;36mResponse.json\u001b[1;34m(self, **kwargs)\u001b[0m\n\u001b[0;32m    970\u001b[0m \u001b[38;5;28;01mtry\u001b[39;00m:\n\u001b[1;32m--> 971\u001b[0m     \u001b[38;5;28;01mreturn\u001b[39;00m complexjson\u001b[38;5;241m.\u001b[39mloads(\u001b[38;5;28mself\u001b[39m\u001b[38;5;241m.\u001b[39mtext, \u001b[38;5;241m*\u001b[39m\u001b[38;5;241m*\u001b[39mkwargs)\n\u001b[0;32m    972\u001b[0m \u001b[38;5;28;01mexcept\u001b[39;00m JSONDecodeError \u001b[38;5;28;01mas\u001b[39;00m e:\n\u001b[0;32m    973\u001b[0m     \u001b[38;5;66;03m# Catch JSON-related errors and raise as requests.JSONDecodeError\u001b[39;00m\n\u001b[0;32m    974\u001b[0m     \u001b[38;5;66;03m# This aliases json.JSONDecodeError and simplejson.JSONDecodeError\u001b[39;00m\n",
      "File \u001b[1;32mC:\\Program Files\\Python310\\lib\\json\\__init__.py:346\u001b[0m, in \u001b[0;36mloads\u001b[1;34m(s, cls, object_hook, parse_float, parse_int, parse_constant, object_pairs_hook, **kw)\u001b[0m\n\u001b[0;32m    343\u001b[0m \u001b[38;5;28;01mif\u001b[39;00m (\u001b[38;5;28mcls\u001b[39m \u001b[38;5;129;01mis\u001b[39;00m \u001b[38;5;28;01mNone\u001b[39;00m \u001b[38;5;129;01mand\u001b[39;00m object_hook \u001b[38;5;129;01mis\u001b[39;00m \u001b[38;5;28;01mNone\u001b[39;00m \u001b[38;5;129;01mand\u001b[39;00m\n\u001b[0;32m    344\u001b[0m         parse_int \u001b[38;5;129;01mis\u001b[39;00m \u001b[38;5;28;01mNone\u001b[39;00m \u001b[38;5;129;01mand\u001b[39;00m parse_float \u001b[38;5;129;01mis\u001b[39;00m \u001b[38;5;28;01mNone\u001b[39;00m \u001b[38;5;129;01mand\u001b[39;00m\n\u001b[0;32m    345\u001b[0m         parse_constant \u001b[38;5;129;01mis\u001b[39;00m \u001b[38;5;28;01mNone\u001b[39;00m \u001b[38;5;129;01mand\u001b[39;00m object_pairs_hook \u001b[38;5;129;01mis\u001b[39;00m \u001b[38;5;28;01mNone\u001b[39;00m \u001b[38;5;129;01mand\u001b[39;00m \u001b[38;5;129;01mnot\u001b[39;00m kw):\n\u001b[1;32m--> 346\u001b[0m     \u001b[38;5;28;01mreturn\u001b[39;00m \u001b[43m_default_decoder\u001b[49m\u001b[38;5;241;43m.\u001b[39;49m\u001b[43mdecode\u001b[49m\u001b[43m(\u001b[49m\u001b[43ms\u001b[49m\u001b[43m)\u001b[49m\n\u001b[0;32m    347\u001b[0m \u001b[38;5;28;01mif\u001b[39;00m \u001b[38;5;28mcls\u001b[39m \u001b[38;5;129;01mis\u001b[39;00m \u001b[38;5;28;01mNone\u001b[39;00m:\n",
      "File \u001b[1;32mC:\\Program Files\\Python310\\lib\\json\\decoder.py:337\u001b[0m, in \u001b[0;36mJSONDecoder.decode\u001b[1;34m(self, s, _w)\u001b[0m\n\u001b[0;32m    333\u001b[0m \u001b[38;5;124;03m\"\"\"Return the Python representation of ``s`` (a ``str`` instance\u001b[39;00m\n\u001b[0;32m    334\u001b[0m \u001b[38;5;124;03mcontaining a JSON document).\u001b[39;00m\n\u001b[0;32m    335\u001b[0m \n\u001b[0;32m    336\u001b[0m \u001b[38;5;124;03m\"\"\"\u001b[39;00m\n\u001b[1;32m--> 337\u001b[0m obj, end \u001b[38;5;241m=\u001b[39m \u001b[38;5;28;43mself\u001b[39;49m\u001b[38;5;241;43m.\u001b[39;49m\u001b[43mraw_decode\u001b[49m\u001b[43m(\u001b[49m\u001b[43ms\u001b[49m\u001b[43m,\u001b[49m\u001b[43m \u001b[49m\u001b[43midx\u001b[49m\u001b[38;5;241;43m=\u001b[39;49m\u001b[43m_w\u001b[49m\u001b[43m(\u001b[49m\u001b[43ms\u001b[49m\u001b[43m,\u001b[49m\u001b[43m \u001b[49m\u001b[38;5;241;43m0\u001b[39;49m\u001b[43m)\u001b[49m\u001b[38;5;241;43m.\u001b[39;49m\u001b[43mend\u001b[49m\u001b[43m(\u001b[49m\u001b[43m)\u001b[49m\u001b[43m)\u001b[49m\n\u001b[0;32m    338\u001b[0m end \u001b[38;5;241m=\u001b[39m _w(s, end)\u001b[38;5;241m.\u001b[39mend()\n",
      "File \u001b[1;32mC:\\Program Files\\Python310\\lib\\json\\decoder.py:355\u001b[0m, in \u001b[0;36mJSONDecoder.raw_decode\u001b[1;34m(self, s, idx)\u001b[0m\n\u001b[0;32m    354\u001b[0m \u001b[38;5;28;01mexcept\u001b[39;00m \u001b[38;5;167;01mStopIteration\u001b[39;00m \u001b[38;5;28;01mas\u001b[39;00m err:\n\u001b[1;32m--> 355\u001b[0m     \u001b[38;5;28;01mraise\u001b[39;00m JSONDecodeError(\u001b[38;5;124m\"\u001b[39m\u001b[38;5;124mExpecting value\u001b[39m\u001b[38;5;124m\"\u001b[39m, s, err\u001b[38;5;241m.\u001b[39mvalue) \u001b[38;5;28;01mfrom\u001b[39;00m \u001b[38;5;28mNone\u001b[39m\n\u001b[0;32m    356\u001b[0m \u001b[38;5;28;01mreturn\u001b[39;00m obj, end\n",
      "\u001b[1;31mJSONDecodeError\u001b[0m: Expecting value: line 1 column 1 (char 0)",
      "\nDuring handling of the above exception, another exception occurred:\n",
      "\u001b[1;31mJSONDecodeError\u001b[0m                           Traceback (most recent call last)",
      "Cell \u001b[1;32mIn [10], line 1\u001b[0m\n\u001b[1;32m----> 1\u001b[0m \u001b[43mresponse\u001b[49m\u001b[38;5;241;43m.\u001b[39;49m\u001b[43mjson\u001b[49m\u001b[43m(\u001b[49m\u001b[43m)\u001b[49m\n",
      "File \u001b[1;32mC:\\_Pyth3\\lib\\site-packages\\requests\\models.py:975\u001b[0m, in \u001b[0;36mResponse.json\u001b[1;34m(self, **kwargs)\u001b[0m\n\u001b[0;32m    971\u001b[0m     \u001b[38;5;28;01mreturn\u001b[39;00m complexjson\u001b[38;5;241m.\u001b[39mloads(\u001b[38;5;28mself\u001b[39m\u001b[38;5;241m.\u001b[39mtext, \u001b[38;5;241m*\u001b[39m\u001b[38;5;241m*\u001b[39mkwargs)\n\u001b[0;32m    972\u001b[0m \u001b[38;5;28;01mexcept\u001b[39;00m JSONDecodeError \u001b[38;5;28;01mas\u001b[39;00m e:\n\u001b[0;32m    973\u001b[0m     \u001b[38;5;66;03m# Catch JSON-related errors and raise as requests.JSONDecodeError\u001b[39;00m\n\u001b[0;32m    974\u001b[0m     \u001b[38;5;66;03m# This aliases json.JSONDecodeError and simplejson.JSONDecodeError\u001b[39;00m\n\u001b[1;32m--> 975\u001b[0m     \u001b[38;5;28;01mraise\u001b[39;00m RequestsJSONDecodeError(e\u001b[38;5;241m.\u001b[39mmsg, e\u001b[38;5;241m.\u001b[39mdoc, e\u001b[38;5;241m.\u001b[39mpos)\n",
      "\u001b[1;31mJSONDecodeError\u001b[0m: Expecting value: line 1 column 1 (char 0)"
     ]
    }
   ],
   "source": [
    "response.json()"
   ]
  },
  {
   "cell_type": "code",
   "execution_count": null,
   "id": "5d530f35",
   "metadata": {},
   "outputs": [],
   "source": [
    "response.content"
   ]
  },
  {
   "cell_type": "code",
   "execution_count": 11,
   "id": "f44ac1fd",
   "metadata": {},
   "outputs": [],
   "source": [
    "soup=BeautifulSoup(response.content)"
   ]
  },
  {
   "cell_type": "code",
   "execution_count": 12,
   "id": "c4c2d5ab",
   "metadata": {},
   "outputs": [
    {
     "data": {
      "text/plain": [
       "<!DOCTYPE html>\n",
       "\n",
       "<html lang=\"en\">\n",
       "<head>\n",
       "<meta charset=\"utf-8\"/>\n",
       "<title>Hello!</title>\n",
       "<style type=\"text/css\">\n",
       "        \t/* CSS styles here...\n",
       "        \th1 {\n",
       "    \t\t    color: red; text-align: right;\n",
       "    \t\t} */\n",
       "            @media (min-width: 600px) {\n",
       "                body {\n",
       "                    background-color: red;\n",
       "                }\n",
       "            }\n",
       "            @media (max-width: 599px) {\n",
       "                body {\n",
       "                    background-color: blue;\n",
       "                }\n",
       "            }\n",
       "            button {\n",
       "                width: 200px;\n",
       "                height: 50px;\n",
       "                font-size: 24px;\n",
       "                background-color: green;\n",
       "            }\n",
       "            button:hover {\n",
       "                background-color: orange;\n",
       "            }\n",
       "            #container {\n",
       "                display: flex;\n",
       "                flex-wrap: wrap;\n",
       "            \tbackground-color: lightblue;\n",
       "            \twidth: auto;\n",
       "            \theight: auto;\n",
       "            \tpadding: auto;\n",
       "            \tmargin: auto;\n",
       "            }\n",
       "            #container > div {\n",
       "                border: 0px;\n",
       "            \tfont-size: 20px;\n",
       "            \tbackground-color: springgreen;\n",
       "            \twidth: 200px;\n",
       "            \theight: auto;\n",
       "            \tpadding: 20px;\n",
       "            \tmargin: 20px;\n",
       "            }\n",
       "            #grid {\n",
       "                display: grid;\n",
       "            \tbackground-color: lightgreen;\n",
       "                border: 0px;\n",
       "            \twidth: auto;\n",
       "            \theight: auto;\n",
       "            \tmargin: 50px;\n",
       "                padding: 20px;\n",
       "                grid-column-gap: 20px;\n",
       "                grid-row-gap: 10px;\n",
       "                grid-template-columns: 200px 200px auto 200px;\n",
       "            }\n",
       "            .grid-item {\n",
       "            \tfont-size: 20px;\n",
       "            \tbackground-color: white;\n",
       "            \tpadding: 20px;\n",
       "                text-align: center;\n",
       "                width:auto;\n",
       "            }\n",
       "    \t</style>\n",
       "<link href=\"styles.css\" rel=\"stylesheet\"/>\n",
       "<meta content=\"width=device-width, initial-scale=1.0\" name=\"viewport\"/>\n",
       "</head>\n",
       "<body>\n",
       "<button>Click me</button>\n",
       "<div id=\"container\">\n",
       "<div>1. This is some sample text inside a div to demo Flexbox</div>\n",
       "<div>2. This is some sample text inside a div to demo Flexbox</div>\n",
       "<div>3. This is some sample text inside a div to demo Flexbox</div>\n",
       "<div>4. This is some sample text inside a div to demo Flexbox</div>\n",
       "<div>5. This is some sample text inside a div to demo Flexbox</div>\n",
       "<div>6. This is some sample text inside a div to demo Flexbox</div>\n",
       "<div>7. This is some sample text inside a div to demo Flexbox</div>\n",
       "<div>8. This is some sample text inside a div to demo Flexbox</div>\n",
       "<div>9. This is some sample text inside a div to demo Flexbox</div>\n",
       "<div>10. This is some sample text inside a div to demo Flexbox</div>\n",
       "<div>11. This is some sample text inside a div to demo Flexbox</div>\n",
       "<div>12. This is some sample text inside a div to demo Flexbox</div>\n",
       "</div>\n",
       "<div id=\"grid\">\n",
       "<div class=\"grid-item\">1.</div>\n",
       "<div class=\"grid-item\">2.</div>\n",
       "<div class=\"grid-item\">3.</div>\n",
       "<div class=\"grid-item\">4.</div>\n",
       "<div class=\"grid-item\">5.</div>\n",
       "<div class=\"grid-item\">6.</div>\n",
       "<div class=\"grid-item\">7.</div>\n",
       "<div class=\"grid-item\">8.</div>\n",
       "<div class=\"grid-item\">9.</div>\n",
       "<div class=\"grid-item\">10.</div>\n",
       "<div class=\"grid-item\">11.</div>\n",
       "<div class=\"grid-item\">12.</div>\n",
       "</div>\n",
       "<div>\n",
       "<h1 id=\"foo\">Hello, world!</h1>\n",
       "<h1 style=\"color: red; text-align: right\">Second style</h1>\n",
       "</div>\n",
       "<div>\n",
       "<h2 class=\"baz\">An Ordered List:</h2>\n",
       "<ol>\n",
       "<li>First Item</li>\n",
       "<li>Second Item</li>\n",
       "<ul>\n",
       "<li>Sublist item one</li>\n",
       "<li>Sublist item two</li>\n",
       "<ul>\n",
       "<li>Subsublist item one</li>\n",
       "</ul>\n",
       "</ul>\n",
       "<li>Third Item</li>\n",
       "</ol>\n",
       "</div>\n",
       "<div>\n",
       "<h2 class=\"baz\">An Unordered List:</h2>\n",
       "<ul>\n",
       "<li>One Item</li>\n",
       "<li>Another Item</li>\n",
       "<li>Yet Another Item</li>\n",
       "</ul>\n",
       "</div>\n",
       "<div>\n",
       "<h2>URL:</h2>\n",
       "<a href=\"bootstrap.html\">Click here for Bootstrap</a>\n",
       "<br/>\n",
       "<a href=\"table.html\">Or here for Table</a>\n",
       "<br/>\n",
       "<a href=\"form.html\">Or here for Form</a>\n",
       "<br/>\n",
       "<a href=\"https://google.com\">Click here for Google</a>\n",
       "</div>\n",
       "<div>\n",
       "<h2>Image:</h2>\n",
       "<img alt=\"Flower\" src=\"flower.jpeg\" width=\"300\"/>\n",
       "</div>\n",
       "</body>\n",
       "</html>"
      ]
     },
     "execution_count": 12,
     "metadata": {},
     "output_type": "execute_result"
    }
   ],
   "source": [
    "soup"
   ]
  },
  {
   "cell_type": "code",
   "execution_count": 13,
   "id": "a7239f35",
   "metadata": {},
   "outputs": [
    {
     "data": {
      "text/plain": [
       "<title>Hello!</title>"
      ]
     },
     "execution_count": 13,
     "metadata": {},
     "output_type": "execute_result"
    }
   ],
   "source": [
    "soup.title"
   ]
  },
  {
   "cell_type": "code",
   "execution_count": 14,
   "id": "1fa3079d",
   "metadata": {},
   "outputs": [
    {
     "data": {
      "text/plain": [
       "'Hello!'"
      ]
     },
     "execution_count": 14,
     "metadata": {},
     "output_type": "execute_result"
    }
   ],
   "source": [
    "soup.title.text"
   ]
  },
  {
   "cell_type": "code",
   "execution_count": 15,
   "id": "ee7c93dc",
   "metadata": {},
   "outputs": [],
   "source": [
    "atags=soup.findAll(\"a\")"
   ]
  },
  {
   "cell_type": "code",
   "execution_count": 16,
   "id": "41ab62ef",
   "metadata": {},
   "outputs": [
    {
     "data": {
      "text/plain": [
       "[<a href=\"bootstrap.html\">Click here for Bootstrap</a>,\n",
       " <a href=\"table.html\">Or here for Table</a>,\n",
       " <a href=\"form.html\">Or here for Form</a>,\n",
       " <a href=\"https://google.com\">Click here for Google</a>]"
      ]
     },
     "execution_count": 16,
     "metadata": {},
     "output_type": "execute_result"
    }
   ],
   "source": [
    "atags"
   ]
  },
  {
   "cell_type": "code",
   "execution_count": 17,
   "id": "39385d05",
   "metadata": {},
   "outputs": [],
   "source": [
    "htags=soup.findAll(\"h1\")"
   ]
  },
  {
   "cell_type": "code",
   "execution_count": 18,
   "id": "37b7cbad",
   "metadata": {},
   "outputs": [
    {
     "data": {
      "text/plain": [
       "[<h1 id=\"foo\">Hello, world!</h1>,\n",
       " <h1 style=\"color: red; text-align: right\">Second style</h1>]"
      ]
     },
     "execution_count": 18,
     "metadata": {},
     "output_type": "execute_result"
    }
   ],
   "source": [
    "htags"
   ]
  },
  {
   "cell_type": "code",
   "execution_count": 19,
   "id": "f0c25dc8",
   "metadata": {},
   "outputs": [],
   "source": [
    "ttags=soup.findAll(\"title\")"
   ]
  },
  {
   "cell_type": "code",
   "execution_count": 20,
   "id": "38e521d3",
   "metadata": {},
   "outputs": [
    {
     "data": {
      "text/plain": [
       "[<title>Hello!</title>]"
      ]
     },
     "execution_count": 20,
     "metadata": {},
     "output_type": "execute_result"
    }
   ],
   "source": [
    "ttags"
   ]
  },
  {
   "cell_type": "code",
   "execution_count": 21,
   "id": "d65e7096",
   "metadata": {},
   "outputs": [],
   "source": [
    "stags=soup.findAll(\"style\")"
   ]
  },
  {
   "cell_type": "code",
   "execution_count": 22,
   "id": "b0fb2aaf",
   "metadata": {},
   "outputs": [
    {
     "data": {
      "text/plain": [
       "[<style type=\"text/css\">\n",
       "         \t/* CSS styles here...\n",
       "         \th1 {\n",
       "     \t\t    color: red; text-align: right;\n",
       "     \t\t} */\n",
       "             @media (min-width: 600px) {\n",
       "                 body {\n",
       "                     background-color: red;\n",
       "                 }\n",
       "             }\n",
       "             @media (max-width: 599px) {\n",
       "                 body {\n",
       "                     background-color: blue;\n",
       "                 }\n",
       "             }\n",
       "             button {\n",
       "                 width: 200px;\n",
       "                 height: 50px;\n",
       "                 font-size: 24px;\n",
       "                 background-color: green;\n",
       "             }\n",
       "             button:hover {\n",
       "                 background-color: orange;\n",
       "             }\n",
       "             #container {\n",
       "                 display: flex;\n",
       "                 flex-wrap: wrap;\n",
       "             \tbackground-color: lightblue;\n",
       "             \twidth: auto;\n",
       "             \theight: auto;\n",
       "             \tpadding: auto;\n",
       "             \tmargin: auto;\n",
       "             }\n",
       "             #container > div {\n",
       "                 border: 0px;\n",
       "             \tfont-size: 20px;\n",
       "             \tbackground-color: springgreen;\n",
       "             \twidth: 200px;\n",
       "             \theight: auto;\n",
       "             \tpadding: 20px;\n",
       "             \tmargin: 20px;\n",
       "             }\n",
       "             #grid {\n",
       "                 display: grid;\n",
       "             \tbackground-color: lightgreen;\n",
       "                 border: 0px;\n",
       "             \twidth: auto;\n",
       "             \theight: auto;\n",
       "             \tmargin: 50px;\n",
       "                 padding: 20px;\n",
       "                 grid-column-gap: 20px;\n",
       "                 grid-row-gap: 10px;\n",
       "                 grid-template-columns: 200px 200px auto 200px;\n",
       "             }\n",
       "             .grid-item {\n",
       "             \tfont-size: 20px;\n",
       "             \tbackground-color: white;\n",
       "             \tpadding: 20px;\n",
       "                 text-align: center;\n",
       "                 width:auto;\n",
       "             }\n",
       "     \t</style>]"
      ]
     },
     "execution_count": 22,
     "metadata": {},
     "output_type": "execute_result"
    }
   ],
   "source": [
    "stags"
   ]
  },
  {
   "cell_type": "code",
   "execution_count": 23,
   "id": "d16a78da",
   "metadata": {},
   "outputs": [
    {
     "name": "stdout",
     "output_type": "stream",
     "text": [
      "bootstrap.html\n",
      "table.html\n",
      "form.html\n",
      "https://google.com\n"
     ]
    }
   ],
   "source": [
    "for link in atags:\n",
    "    print(link.get('href'))"
   ]
  },
  {
   "cell_type": "code",
   "execution_count": 24,
   "id": "eb15aeb2",
   "metadata": {},
   "outputs": [],
   "source": [
    "url = \"http://funkacer.pythonanywhere.com/table.html\"\n",
    "response = requests.get(url)\n",
    "soup = BeautifulSoup(response.content)"
   ]
  },
  {
   "cell_type": "code",
   "execution_count": 25,
   "id": "20119e3b",
   "metadata": {},
   "outputs": [],
   "source": [
    "tables = soup.findAll(\"table\")"
   ]
  },
  {
   "cell_type": "code",
   "execution_count": 26,
   "id": "a4d17848",
   "metadata": {},
   "outputs": [
    {
     "data": {
      "text/plain": [
       "[<table>\n",
       " <thead>\n",
       " <tr>\n",
       " <th>Ocean</th>\n",
       " <th>Total depth</th>\n",
       " <th>Size</th>\n",
       " </tr>\n",
       " </thead>\n",
       " <tbody>\n",
       " <tr>\n",
       " <td>Pacific Ocean</td>\n",
       " <td>123 m</td>\n",
       " <td>12 m2</td>\n",
       " </tr>\n",
       " <tr>\n",
       " <td>Atlantic Ocean</td>\n",
       " <td>123.15 m</td>\n",
       " <td>12,123 m2</td>\n",
       " </tr>\n",
       " </tbody>\n",
       " </table>]"
      ]
     },
     "execution_count": 26,
     "metadata": {},
     "output_type": "execute_result"
    }
   ],
   "source": [
    "tables"
   ]
  },
  {
   "cell_type": "code",
   "execution_count": 27,
   "id": "a3f68027",
   "metadata": {},
   "outputs": [],
   "source": [
    "wiki_tables = soup.find('table',{'class':'wikitable sortable plainrowheaders'})"
   ]
  },
  {
   "cell_type": "code",
   "execution_count": 28,
   "id": "e5de0b29",
   "metadata": {},
   "outputs": [],
   "source": [
    "wiki_tables"
   ]
  },
  {
   "cell_type": "code",
   "execution_count": 29,
   "id": "dcc0af64",
   "metadata": {},
   "outputs": [],
   "source": [
    "wiki_tables = soup.find(\"table\")"
   ]
  },
  {
   "cell_type": "code",
   "execution_count": 30,
   "id": "1903bf66",
   "metadata": {},
   "outputs": [
    {
     "data": {
      "text/plain": [
       "<table>\n",
       "<thead>\n",
       "<tr>\n",
       "<th>Ocean</th>\n",
       "<th>Total depth</th>\n",
       "<th>Size</th>\n",
       "</tr>\n",
       "</thead>\n",
       "<tbody>\n",
       "<tr>\n",
       "<td>Pacific Ocean</td>\n",
       "<td>123 m</td>\n",
       "<td>12 m2</td>\n",
       "</tr>\n",
       "<tr>\n",
       "<td>Atlantic Ocean</td>\n",
       "<td>123.15 m</td>\n",
       "<td>12,123 m2</td>\n",
       "</tr>\n",
       "</tbody>\n",
       "</table>"
      ]
     },
     "execution_count": 30,
     "metadata": {},
     "output_type": "execute_result"
    }
   ],
   "source": [
    "wiki_tables"
   ]
  },
  {
   "cell_type": "code",
   "execution_count": 31,
   "id": "bbe039a1",
   "metadata": {},
   "outputs": [
    {
     "name": "stdout",
     "output_type": "stream",
     "text": [
      "Pacific Ocean (depth:(123 m, sixe: 12 m2)\n",
      "Atlantic Ocean (depth:(123.15 m, sixe: 12,123 m2)\n"
     ]
    }
   ],
   "source": [
    "allOceans = {}\n",
    "for row in wiki_tables.find_all('tr'):\n",
    "    cells=[c.find(text=True).strip() for c in row.findAll('td')]\n",
    "    names = [c.find(text=True).strip() for c in row.findAll('th')]\n",
    "    #print(len(cells), cells, names)\n",
    "    if len(cells)==3:\n",
    "        ocean = cells[0]\n",
    "        depth = cells[1]\n",
    "        size = cells[2]\n",
    "        print(\"{} (depth:({}, sixe: {})\".format(ocean, depth, size))\n",
    "        allOceans.update({ocean:{'depth':depth,\"size\":size}})"
   ]
  },
  {
   "cell_type": "code",
   "execution_count": 32,
   "id": "70563db3",
   "metadata": {},
   "outputs": [
    {
     "data": {
      "text/plain": [
       "{'Pacific Ocean': {'depth': '123 m', 'size': '12 m2'},\n",
       " 'Atlantic Ocean': {'depth': '123.15 m', 'size': '12,123 m2'}}"
      ]
     },
     "execution_count": 32,
     "metadata": {},
     "output_type": "execute_result"
    }
   ],
   "source": [
    "allOceans"
   ]
  },
  {
   "cell_type": "code",
   "execution_count": null,
   "id": "0ce4a9dd",
   "metadata": {},
   "outputs": [],
   "source": []
  }
 ],
 "metadata": {
  "kernelspec": {
   "display_name": "_Pyth3",
   "language": "python",
   "name": "_pyth3"
  },
  "language_info": {
   "codemirror_mode": {
    "name": "ipython",
    "version": 3
   },
   "file_extension": ".py",
   "mimetype": "text/x-python",
   "name": "python",
   "nbconvert_exporter": "python",
   "pygments_lexer": "ipython3",
   "version": "3.10.8"
  }
 },
 "nbformat": 4,
 "nbformat_minor": 5
}
